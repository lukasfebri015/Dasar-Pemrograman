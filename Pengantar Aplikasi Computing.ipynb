{
  "nbformat": 4,
  "nbformat_minor": 0,
  "metadata": {
    "colab": {
      "provenance": [],
      "authorship_tag": "ABX9TyOfPcubXJMoFt6WHYIa3gqY",
      "include_colab_link": true
    },
    "kernelspec": {
      "name": "python3",
      "display_name": "Python 3"
    },
    "language_info": {
      "name": "python"
    }
  },
  "cells": [
    {
      "cell_type": "markdown",
      "metadata": {
        "id": "view-in-github",
        "colab_type": "text"
      },
      "source": [
        "<a href=\"https://colab.research.google.com/github/lukasfebri015/Dasar-Pemrograman/blob/main/Pengantar%20Aplikasi%20Computing.ipynb\" target=\"_parent\"><img src=\"https://colab.research.google.com/assets/colab-badge.svg\" alt=\"Open In Colab\"/></a>"
      ]
    },
    {
      "cell_type": "markdown",
      "source": [
        "<h2>Soal</h2>\n",
        "<ol>\n",
        "    <li>Sebutkan dan jelaskan software yang berperan pada lembaga-lembaga berikut ini:\n",
        "\n",
        "a. E-goverment\n",
        "\n",
        "b. Pendidikan\n",
        "\n",
        "c. Kesehatan\n",
        "\n",
        "d. Kepolisian\n",
        "\n",
        "e. Dinas perhubungan\n",
        "\n",
        "f. TNI akatan Laut dan Udara</li>\n",
        "    <li>Sebutkanlah sistem operasi yang kalian ketahui (minimal 5), dan berikanlah masing-masing mengenai fitur, kelebihan dan kekurangan dan perkembangan saat ini !</li>"
      ],
      "metadata": {
        "id": "GzZz0eTQYmg1"
      }
    },
    {
      "cell_type": "markdown",
      "source": [
        "<h2>Jawaban</h2>\n",
        "<ol>"
      ],
      "metadata": {
        "id": "iNFLBhL_c2Bq"
      }
    },
    {
      "cell_type": "code",
      "source": [
        "a. E-goverment : penggunaan teknologi informasi oleh pemerintah untuk memberikan informasi dan pelayanan bagi warganya, dam urusan bisnis.\n",
        "b. Pendidikan : pembelajaran pengetahuan, keterampilan, dan kebiasaan sekelompok orang yang diturunkan dari satu generasi ke generasi berikutnya melalui pengajaran, pelatihan, atau penelitian.\n",
        "c. Kesehatan : kondisi kesejahteraan fisik, mental, dan sosial yang lengkap dan bukan sekadar tidak adanya penyakit atau kelemahan. Pemahaman tentang kesehatan telah bergeser seiring dengan waktu.\n",
        "d. Kepolisian : Polisi Nasional di Indonesia, yang bertanggung jawab langsung di bawah Presiden.\n",
        "e. Dinas Perhubungan : unsur pelaksana otonomi daerah di bidang perhubungan yang berkedudukan di bawah dan bertanggung jawab kepada Gubernur melalui SEKDA.\n",
        "f. TNI akatan Laut dan Udara : salah satu cabang angkatan perang dan merupakan bagian dari Tentara Nasional Indonesia (TNI) yang bertanggung jawab atas operasi pertahanan negara Republik Indonesia di laut."
      ],
      "metadata": {
        "id": "R7V44GZmlakB"
      },
      "execution_count": null,
      "outputs": []
    },
    {
      "cell_type": "code",
      "source": [
        "Windows\n",
        "- Kelebihan:\n",
        "Berjalan dengan performa yang cukup maksimal\n",
        "Fitur lengkap yang dapat mendukung pekerjaan dan pemakaian sehari-hari\n",
        "Populer dan memiliki banyak pengguna\n",
        "- Kekurangan:\n",
        "Banyak ancaman virus\n",
        "Keamanan yang mudah diretas\n",
        "\n",
        "Linux\n",
        "- Kelebihan:\n",
        "Memiliki komunitas yang besar\n",
        "Ancaman virus yang rendah\n",
        "Pembaruan secara rutin\n",
        "- Kekurangan:\n",
        "Kurang cocok untuk bermain game karena developer belum banyak yang membuat game untuk Linux\n",
        "Memiliki pilihan perangkat lunak yang terbatas\n",
        "\n",
        "macOS\n",
        "- Kelebihan:\n",
        "Menawarkan performa yang maksimal\n",
        "Kompatibel dengan operating system lainnya, artinya kamu dapat membuka file dalam format tertentu seperti PDF, Doc, txt, dan lainnya di macOS\n",
        "Kekurangan:\n",
        "Memiliki harga yang relatif mahal\n",
        "Hanya mendukung ekosistem yang sama (sesama Apple)\n",
        "macOS cenderung hanya digunakan pada keperluan desain grafis dan penggunaan ringan saja. Kurang idel untuk bermain game"
      ],
      "metadata": {
        "id": "zbglHwPOgduo"
      },
      "execution_count": null,
      "outputs": []
    }
  ]
}